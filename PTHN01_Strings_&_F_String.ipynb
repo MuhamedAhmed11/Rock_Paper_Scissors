{
  "nbformat": 4,
  "nbformat_minor": 0,
  "metadata": {
    "colab": {
      "provenance": []
    },
    "kernelspec": {
      "name": "python3",
      "display_name": "Python 3"
    },
    "language_info": {
      "name": "python"
    }
  },
  "cells": [
    {
      "cell_type": "code",
      "execution_count": null,
      "metadata": {
        "id": "_XYHZGj8F7fJ"
      },
      "outputs": [],
      "source": []
    },
    {
      "cell_type": "markdown",
      "source": [
        "# Session 3 - Strings & F-String"
      ],
      "metadata": {
        "id": "fMAj0v_TGWBy"
      }
    },
    {
      "cell_type": "markdown",
      "source": [
        "## String"
      ],
      "metadata": {
        "id": "aqIxHDKp6DRw"
      }
    },
    {
      "cell_type": "markdown",
      "source": [
        "### Exercise 1\n",
        "\n",
        "Create a string for your name and print it"
      ],
      "metadata": {
        "id": "zvEL0SMf7fNA"
      }
    },
    {
      "cell_type": "code",
      "source": [],
      "metadata": {
        "id": "GvFKY3Rs6EQ-"
      },
      "execution_count": null,
      "outputs": []
    },
    {
      "cell_type": "markdown",
      "source": [
        "### Exercise 2\n",
        "Convert the following code into String"
      ],
      "metadata": {
        "id": "fDCMa_Rk7wdI"
      }
    },
    {
      "cell_type": "code",
      "source": [
        "name = Hany\n",
        "gender = boy\n",
        "bio = I like playing football\n",
        "I like going to the cinema\n",
        "I like drawing"
      ],
      "metadata": {
        "id": "3xMXbZDf70ml"
      },
      "execution_count": null,
      "outputs": []
    },
    {
      "cell_type": "markdown",
      "source": [
        "### Exercise 3\n",
        "\n",
        "Try this 'I'm a student'"
      ],
      "metadata": {
        "id": "FQ2iZpYw8H14"
      }
    },
    {
      "cell_type": "code",
      "source": [],
      "metadata": {
        "id": "4jz-Wey0-miI"
      },
      "execution_count": null,
      "outputs": []
    },
    {
      "cell_type": "markdown",
      "source": [
        "## F-String"
      ],
      "metadata": {
        "id": "NnD-c85V_2ph"
      }
    },
    {
      "cell_type": "markdown",
      "source": [
        "### Exercise 1\n",
        "\n",
        "make this run correctly using f-string"
      ],
      "metadata": {
        "id": "P5QKKkls_hE3"
      }
    },
    {
      "cell_type": "code",
      "source": [
        "speed = 120\n",
        "print(\"my car speed is speed\")"
      ],
      "metadata": {
        "id": "9yfA7pzq_npg"
      },
      "execution_count": null,
      "outputs": []
    },
    {
      "cell_type": "markdown",
      "source": [
        "### Exercise 2\n",
        "\n",
        "print \"My name is {your name}\""
      ],
      "metadata": {
        "id": "O4t9Fkw9-t3A"
      }
    },
    {
      "cell_type": "code",
      "source": [],
      "metadata": {
        "id": "NPU7Z_iR-2Sm"
      },
      "execution_count": null,
      "outputs": []
    },
    {
      "cell_type": "markdown",
      "source": [
        "### Exercise 3\n",
        "\n",
        "print \"My age is {your age}\""
      ],
      "metadata": {
        "id": "-jrCcjcd--RJ"
      }
    },
    {
      "cell_type": "code",
      "source": [],
      "metadata": {
        "id": "PEzH5iWw_Asg"
      },
      "execution_count": null,
      "outputs": []
    },
    {
      "cell_type": "markdown",
      "source": [
        "### Exercise 4\n",
        "\n",
        "print \"My favorite color is {your color}\""
      ],
      "metadata": {
        "id": "xNtxr5rb_BNA"
      }
    },
    {
      "cell_type": "code",
      "source": [],
      "metadata": {
        "id": "dMS_j3Fa_Iu7"
      },
      "execution_count": null,
      "outputs": []
    },
    {
      "cell_type": "markdown",
      "source": [
        "### Exercise 5\n",
        "\n",
        "Make all of them in one sentence\n",
        "\"My name is {your name}. My age is {your age}. \"My favorite color is {your color}\"\""
      ],
      "metadata": {
        "id": "4oyGI4qG_JIJ"
      }
    },
    {
      "cell_type": "code",
      "source": [],
      "metadata": {
        "id": "6cNQp02L_UEj"
      },
      "execution_count": null,
      "outputs": []
    },
    {
      "cell_type": "markdown",
      "source": [
        "### Exercise 6\n",
        "\n",
        "Make a story which can gets really funny!\n",
        "\n",
        "Hi, my name is {name}. I really like {favorite_snack}! I like it so much, I try\n",
        "to eat it at least {number} times every day."
      ],
      "metadata": {
        "id": "BkU1KVdHACMp"
      }
    },
    {
      "cell_type": "code",
      "source": [],
      "metadata": {
        "id": "LVNpYN6OAP5p"
      },
      "execution_count": null,
      "outputs": []
    },
    {
      "cell_type": "markdown",
      "source": [
        "Good Luck!"
      ],
      "metadata": {
        "id": "ll0DFUWdAR9R"
      }
    }
  ]
}